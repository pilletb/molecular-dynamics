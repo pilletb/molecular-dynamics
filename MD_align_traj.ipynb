{
 "cells": [
  {
   "cell_type": "code",
   "execution_count": 7,
   "metadata": {},
   "outputs": [],
   "source": [
    "import numpy as np\n",
    "import MDAnalysis as mda\n",
    "import matplotlib.pyplot as plt\n",
    "from mpl_toolkits.mplot3d import Axes3D\n",
    "from MDAnalysis.analysis import align, encore, psa\n",
    "from MDAnalysis.analysis.encore.dimensionality_reduction import DimensionalityReductionMethod as drm\n"
   ]
  },
  {
   "cell_type": "code",
   "execution_count": 9,
   "metadata": {},
   "outputs": [],
   "source": [
    "#align\n",
    "path = \"C:\\\\Benj\\KresslerLab_BP\\\\Structure Claudio\\\\Sch9 MDAnalysis\\\\\"\n",
    "\n",
    "mobile = mda.Universe(path+'Sch9.S288J_em.pdb', path+'Sch9.S288J_2_md_center.xtc')\n",
    "ref = mda.Universe(path+'Sch9_em.pdb', path+'Sch9_1_md_center.xtc')\n",
    "\n",
    "mobile.trajectory[-1]\n",
    "ref.trajectory[0]\n",
    "align.AlignTraj(mobile, ref, select='resid 183-216 or resid 327-708', filename=path+'Sch9.S288J_2_md_aligned.xtc').run()"
   ]
  },
  {
   "cell_type": "code",
   "execution_count": 6,
   "metadata": {},
   "outputs": [],
   "source": [
    "#load\n",
    "path = \"C:\\\\Benj\\KresslerLab_BP\\\\Structure Claudio\\\\Sch9 MDAnalysis\\\\\"\n",
    "\n",
    "Sch9_1 = mda.Universe(path+'Sch9_em.pdb', path+'Sch9_1_md_aligned.xtc')\n",
    "Sch9_2 = mda.Universe(path+'Sch9_em.pdb', path+'Sch9_2_md_aligned.xtc')\n",
    "Sch9_3 = mda.Universe(path+'Sch9_em.pdb', path+'Sch9_3_md_aligned.xtc')\n",
    "Sch9S288J_1 = mda.Universe(path+'Sch9.S288J_em.pdb', path+'Sch9.S288J_1_md_aligned.xtc')\n",
    "Sch9S288J_2 = mda.Universe(path+'Sch9.S288J_em.pdb', path+'Sch9.S288J_2_md_aligned.xtc')\n",
    "Sch9S288J_3 = mda.Universe(path+'Sch9.S288J_em.pdb', path+'Sch9.S288J_3_md_aligned.xtc')"
   ]
  },
  {
   "cell_type": "code",
   "execution_count": 9,
   "metadata": {},
   "outputs": [],
   "source": [
    "labels = ['Sch9_1', 'Sch9_2', 'Sch9_3', 'Sch9S288J_1', 'Sch9S288J_2', 'Sch9S288J_3']\n",
    "ps = psa.PSAnalysis([Sch9_1, Sch9_2, Sch9_3, Sch9S288J_1, Sch9S288J_2, Sch9S288J_3],\n",
    "                    labels=labels,\n",
    "                    #reference=ref,\n",
    "                    #select=CORE_sel,\n",
    "                    path_select='name CA')\n",
    "ps.generate_paths(align=False, save=False, weights=None)\n",
    "ps.run(metric='hausdorff')"
   ]
  },
  {
   "cell_type": "code",
   "execution_count": 10,
   "metadata": {},
   "outputs": [
    {
     "data": {
      "text/plain": [
       "(array([[ 0.        ,  3.        , 18.81721763,  2.        ],\n",
       "        [ 1.        ,  5.        , 20.70635073,  2.        ],\n",
       "        [ 6.        ,  7.        , 21.82871829,  4.        ],\n",
       "        [ 4.        ,  8.        , 24.66066821,  5.        ],\n",
       "        [ 2.        ,  9.        , 26.48891508,  6.        ]]),\n",
       " {'icoord': [[25.0, 25.0, 35.0, 35.0],\n",
       "   [45.0, 45.0, 55.0, 55.0],\n",
       "   [30.0, 30.0, 50.0, 50.0],\n",
       "   [15.0, 15.0, 40.0, 40.0],\n",
       "   [5.0, 5.0, 27.5, 27.5]],\n",
       "  'dcoord': [[0.0, 18.81721763379437, 18.81721763379437, 0.0],\n",
       "   [0.0, 20.706350728539263, 20.706350728539263, 0.0],\n",
       "   [18.81721763379437,\n",
       "    21.828718286122783,\n",
       "    21.828718286122783,\n",
       "    20.706350728539263],\n",
       "   [0.0, 24.660668207898187, 24.660668207898187, 21.828718286122783],\n",
       "   [0.0, 26.488915076692642, 26.488915076692642, 24.660668207898187]],\n",
       "  'ivl': ['2', '4', '0', '3', '1', '5'],\n",
       "  'leaves': [2, 4, 0, 3, 1, 5],\n",
       "  'color_list': ['C0', 'C0', 'C0', 'C0', 'C0'],\n",
       "  'leaves_color_list': ['C0', 'C0', 'C0', 'C0', 'C0', 'C0']},\n",
       " array([[ 0.        , 29.38667987, 20.47258854, 21.99596509, 23.95554556,\n",
       "         26.42601855],\n",
       "        [29.38667987,  0.        , 24.27866134, 22.97383355, 22.07202751,\n",
       "         23.35836807],\n",
       "        [20.47258854, 24.27866134,  0.        , 18.81721763, 22.06446101,\n",
       "         20.6115134 ],\n",
       "        [21.99596509, 22.97383355, 18.81721763,  0.        , 19.08467544,\n",
       "         21.44590319],\n",
       "        [23.95554556, 22.07202751, 22.06446101, 19.08467544,  0.        ,\n",
       "         20.70635073],\n",
       "        [26.42601855, 23.35836807, 20.6115134 , 21.44590319, 20.70635073,\n",
       "          0.        ]]))"
      ]
     },
     "execution_count": 10,
     "metadata": {},
     "output_type": "execute_result"
    },
    {
     "data": {
      "text/plain": [
       "<Figure size 640x480 with 0 Axes>"
      ]
     },
     "metadata": {},
     "output_type": "display_data"
    },
    {
     "data": {
      "image/png": "[encoded data removed]",
      "text/plain": [
       "<Figure size 562.5x450 with 3 Axes>"
      ]
     },
     "metadata": {},
     "output_type": "display_data"
    }
   ],
   "source": [
    "ps.plot()"
   ]
  },
  {
   "cell_type": "code",
   "execution_count": null,
   "metadata": {},
   "outputs": [],
   "source": [
    "pc1 = drm.PrincipalComponentAnalysis(dimension=1,\n",
    "                                     svd_solver='auto')\n",
    "pc2 = drm.PrincipalComponentAnalysis(dimension=2,\n",
    "                                     svd_solver='auto')\n",
    "#dres0, details0 = encore.dres([Sch9_1, Sch9_2, Sch9_3, Sch9S288J_1, Sch9S288J_2, Sch9S288J_3], select='(resid 1-287 or resid 289-824) and name CA')\n",
    "dres0, details0 = encore.dres([Sch9_1, Sch9_2, Sch9_3, Sch9S288J_1, Sch9S288J_2, Sch9S288J_3], select='name CA',dimensionality_reduction_method=[pc1, pc2], ncores=4)"
   ]
  }
 ],
 "metadata": {
  "kernelspec": {
   "display_name": "MDA",
   "language": "python",
   "name": "python3"
  },
  "language_info": {
   "codemirror_mode": {
    "name": "ipython",
    "version": 3
   },
   "file_extension": ".py",
   "mimetype": "text/x-python",
   "name": "python",
   "nbconvert_exporter": "python",
   "pygments_lexer": "ipython3",
   "version": "3.10.8"
  },
  "orig_nbformat": 4,
  "vscode": {
   "interpreter": {
    "hash": "27d75f34fb93feb6976a827846c5979f812433c17117fcc18cb144b9256987f9"
   }
  }
 },
 "nbformat": 4,
 "nbformat_minor": 2
}
